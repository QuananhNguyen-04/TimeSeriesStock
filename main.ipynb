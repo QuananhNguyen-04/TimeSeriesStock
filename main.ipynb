{
 "cells": [
  {
   "cell_type": "code",
   "execution_count": 13,
   "metadata": {},
   "outputs": [],
   "source": [
    "import os\n",
    "import torch\n",
    "import torch.nn as nn\n",
    "import torch.optim as optim\n",
    "from torch.utils.data import Dataset, DataLoader, random_split, ConcatDataset\n",
    "from tqdm import tqdm\n",
    "import pandas as pd\n",
    "# import torch_directml"
   ]
  },
  {
   "cell_type": "markdown",
   "metadata": {},
   "source": [
    "#### Define the TimeSeriesDataset class"
   ]
  },
  {
   "cell_type": "code",
   "execution_count": 14,
   "metadata": {},
   "outputs": [],
   "source": [
    "class TimeSeriesDataset(Dataset):\n",
    "    def __init__(self, data, seq_len):\n",
    "        self.data = data\n",
    "        self.seq_len = seq_len\n",
    "\n",
    "    def __len__(self):\n",
    "        return len(self.data) - self.seq_len\n",
    "\n",
    "    def __getitem__(self, i):\n",
    "        seq = self.data[i : i + self.seq_len]\n",
    "        label = self.data[i + self.seq_len, -2]\n",
    "        return {\n",
    "            \"seq\": seq.clone().detach().float(),\n",
    "            \"label\": label.clone().detach().float().unsqueeze(0),\n",
    "        }\n"
   ]
  },
  {
   "cell_type": "markdown",
   "metadata": {},
   "source": [
    "#### Define the Model class"
   ]
  },
  {
   "cell_type": "code",
   "execution_count": 30,
   "metadata": {},
   "outputs": [],
   "source": [
    "class Model(nn.Module):\n",
    "    def __init__(self, input_dim, hidden_dim, output_dim, num_layers=10):\n",
    "        super(Model, self).__init__()\n",
    "        self.rnn = nn.LSTM(\n",
    "            input_dim,\n",
    "            hidden_dim,\n",
    "            num_layers,\n",
    "            batch_first=True,\n",
    "            dropout=0.6,\n",
    "        )\n",
    "        self.fc = nn.Linear(hidden_dim, output_dim)\n",
    "        self.fc2 = nn.Linear(2 * hidden_dim, output_dim)\n",
    "        self.h0 = None\n",
    "        self.c0 = None\n",
    "\n",
    "    def forward(self, x):\n",
    "        # print(x.shape)\n",
    "        if (\n",
    "            self.h0 is None\n",
    "            or self.c0 is None\n",
    "            or self.h0.shape[1] != x.shape[0]\n",
    "            or self.c0.shape[1] != x.shape[0]\n",
    "        ):\n",
    "            self.h0 = torch.zeros(\n",
    "                self.rnn.num_layers, x.size(0), self.rnn.hidden_size\n",
    "            ).to(x.device)\n",
    "            self.c0 = torch.zeros(\n",
    "                self.rnn.num_layers, x.size(0), self.rnn.hidden_size\n",
    "            ).to(x.device)\n",
    "\n",
    "        out, (self.h0, self.c0) = self.rnn(x, (self.h0, self.c0))\n",
    "\n",
    "        # Detach hidden states from the computation graph to prevent backpropagation\n",
    "        self.h0 = self.h0.detach()\n",
    "        self.c0 = self.c0.detach()\n",
    "        out = self.fc(out[:, -1, :])\n",
    "        # out = self.fc2(out)\n",
    "        return out\n",
    "\n",
    "\n"
   ]
  },
  {
   "cell_type": "markdown",
   "metadata": {},
   "source": [
    "#### Initialize the device, model, criterion, and optimizer\n"
   ]
  },
  {
   "cell_type": "code",
   "execution_count": 31,
   "metadata": {},
   "outputs": [],
   "source": [
    "# self.device = torch_directml.device()\n",
    "device = torch.device(\"cuda\" if torch.cuda.is_available() else \"cpu\")\n",
    "\n",
    "model = Model(input_dim=6, hidden_dim=64, output_dim=1, num_layers=10).to(device)\n",
    "criterion = nn.MSELoss()\n",
    "optimizer = optim.SGD(model.parameters(), lr=0.0001, weight_decay=1e-5)"
   ]
  },
  {
   "cell_type": "markdown",
   "metadata": {},
   "source": [
    "#### Load the data"
   ]
  },
  {
   "cell_type": "code",
   "execution_count": 16,
   "metadata": {},
   "outputs": [
    {
     "name": "stdout",
     "output_type": "stream",
     "text": [
      "Processing BID.csv\n",
      "Processing BVH.csv\n",
      "Processing CTG.csv\n",
      "Processing FPT.csv\n",
      "Processing GAS.csv\n",
      "Processing HDB.csv\n",
      "Processing HPG.csv\n",
      "Processing KDH.csv\n",
      "Processing MBB.csv\n",
      "Processing MSN.csv\n",
      "Processing MWG.csv\n",
      "Processing NVL.csv\n",
      "Processing PDR.csv\n",
      "Processing PLX.csv\n",
      "Processing PNJ.csv\n",
      "Processing POW.csv\n",
      "Processing REE.csv\n",
      "Processing SBT.csv\n",
      "Processing SSI.csv\n",
      "Processing STB.csv\n",
      "Processing TCB.csv\n",
      "Processing TCH.csv\n",
      "Processing TPB.csv\n",
      "Processing VCB.csv\n",
      "Processing VHM.csv\n",
      "Processing VIC.csv\n",
      "Processing VJC.csv\n",
      "Processing VNM.csv\n",
      "Processing VPB.csv\n",
      "Processing VRE.csv\n"
     ]
    }
   ],
   "source": [
    "data = {}\n",
    "\n",
    "for csv_file in os.listdir(\"./data\"):\n",
    "    if not csv_file.endswith(\".csv\"):\n",
    "        continue\n",
    "    print(f\"Processing {csv_file}\")\n",
    "    file = open(f\"./data/{csv_file}\", \"r\")\n",
    "\n",
    "    stock_name = csv_file.split(\".\")[0]\n",
    "    df = pd.read_csv(\n",
    "        file,\n",
    "        header=1,\n",
    "        names=[\"ticker\", \"date\", \"open\", \"high\", \"low\", \"close\", \"volume\"],\n",
    "    )\n",
    "    df = df.sort_values(by=\"date\", ascending=True)\n",
    "    data[stock_name] = torch.tensor(df.iloc[:, 1:].values)\n",
    "\n",
    "    file.close()\n"
   ]
  },
  {
   "cell_type": "markdown",
   "metadata": {},
   "source": [
    "\n",
    "#### Create the dataset and dataloader"
   ]
  },
  {
   "cell_type": "code",
   "execution_count": 27,
   "metadata": {},
   "outputs": [
    {
     "name": "stdout",
     "output_type": "stream",
     "text": [
      "1826\n",
      "27621\n",
      "22097 5524\n"
     ]
    }
   ],
   "source": [
    "dataset = TimeSeriesDataset(data[\"BID\"], seq_len=20)\n",
    "print(len(dataset))\n",
    "merged_dataset = dataset\n",
    "for i, stock_name in enumerate(data):\n",
    "    if stock_name == \"BID\":\n",
    "        continue\n",
    "    merged_dataset = ConcatDataset(\n",
    "        [merged_dataset, TimeSeriesDataset(data[stock_name], seq_len=20)]\n",
    "    )\n",
    "    if i % 10 == 0:\n",
    "        break\n",
    "print(len(merged_dataset))\n",
    "train_dataset, test_dataset = random_split(merged_dataset, [0.8, 0.2])\n",
    "torch.set_printoptions(sci_mode=False)\n",
    "print(len(train_dataset), len(test_dataset))\n",
    "dataloader = DataLoader(train_dataset, batch_size=128, shuffle=True)\n",
    "testloader = DataLoader(test_dataset, batch_size=512, shuffle=True)"
   ]
  },
  {
   "cell_type": "markdown",
   "metadata": {},
   "source": [
    "#### Train the model"
   ]
  },
  {
   "cell_type": "code",
   "execution_count": 20,
   "metadata": {},
   "outputs": [],
   "source": [
    "epochs = 100"
   ]
  },
  {
   "cell_type": "code",
   "execution_count": 29,
   "metadata": {},
   "outputs": [
    {
     "name": "stderr",
     "output_type": "stream",
     "text": [
      "Epoch 1/100: 100%|███████████████████████| 173/173 [00:35<00:00,  4.87step/s, loss=38.534]\n"
     ]
    },
    {
     "name": "stdout",
     "output_type": "stream",
     "text": [
      "Pred: 0.0562223345041275, Actual: 15.028900146484375\n",
      "Pred: 0.05622447654604912, Actual: 43.96739959716797\n",
      "Pred: 0.05621613562107086, Actual: 35.984901428222656\n",
      "Pred: 0.0562160387635231, Actual: 29.068199157714844\n",
      "Pred: 0.05621763691306114, Actual: 55.31060028076172\n",
      "Pred: 0.05621613562107086, Actual: 84.58499908447266\n",
      "Pred: 0.056215837597846985, Actual: 20.37849998474121\n",
      "Pred: 0.05622561648488045, Actual: 21.39550018310547\n",
      "Pred: 0.05621613562107086, Actual: 13.609199523925781\n",
      "Pred: 0.05621644854545593, Actual: 71.65229797363281\n"
     ]
    },
    {
     "name": "stderr",
     "output_type": "stream",
     "text": [
      "Epoch 2/100:  87%|███████████████████▉   | 150/173 [00:28<00:04,  5.25step/s, loss=42.743]"
     ]
    }
   ],
   "source": [
    "model.train()\n",
    "for epoch in range(epochs):\n",
    "    running_loss = 0.0\n",
    "    with tqdm(dataloader, unit=\"step\", ncols=90, desc=f\"Epoch {epoch + 1}/{epochs}\") as tepoch:\n",
    "        for batch in tepoch:\n",
    "            seq = batch[\"seq\"].to(device)\n",
    "            label = batch[\"label\"].to(device)\n",
    "            optimizer.zero_grad()\n",
    "            out = model(seq)\n",
    "            loss = torch.sqrt(criterion(out, label))\n",
    "            loss.backward()\n",
    "            optimizer.step()\n",
    "            running_loss += loss.item()\n",
    "            tepoch.set_postfix(loss=f\"{loss.item():.3f}\")\n",
    "        running_loss /= len(dataloader)\n",
    "        model.eval()\n",
    "        with torch.inference_mode():\n",
    "\n",
    "            testing_loss = 0.0\n",
    "            for i, batch in enumerate(testloader):\n",
    "                seq = batch[\"seq\"].to(device)\n",
    "                label = batch[\"label\"].to(device)\n",
    "                out = model(seq)\n",
    "                loss = torch.sqrt(criterion(out, label))\n",
    "                testing_loss += loss.item()\n",
    "        tepoch.set_postfix(loss=f\"{running_loss:.3f} | test {testing_loss / (len(testloader)):.3f}\")\n",
    "        if (epoch+1) % 1 == 0:\n",
    "            for pred, act in zip(out[:10], label[:10]):\n",
    "                print(f\"Pred: {pred.item()}, Actual: {act.item()}\")\n",
    "            \n",
    "            # print(\n",
    "            #     f\"Epochs: {epoch+1:3d} train: {running_loss :.3f}| test: {testing_loss / (len(testloader)):.3f}\"\n",
    "            # )\n",
    "\n",
    "        model.train()\n"
   ]
  }
 ],
 "metadata": {
  "kernelspec": {
   "display_name": "Python 3",
   "language": "python",
   "name": "python3"
  },
  "language_info": {
   "codemirror_mode": {
    "name": "ipython",
    "version": 3
   },
   "file_extension": ".py",
   "mimetype": "text/x-python",
   "name": "python",
   "nbconvert_exporter": "python",
   "pygments_lexer": "ipython3",
   "version": "3.9.2"
  }
 },
 "nbformat": 4,
 "nbformat_minor": 2
}
